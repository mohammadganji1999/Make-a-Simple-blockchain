import json
from hashlib import sha256

def block_16(prev_hash):
        file_1 = open('Ledger_Number16.json')
        block = str(json.load(file_1)) + prev_hash

        file_2 = open('Math_Problem_Number16.json')
        problem = json.load(file_2)

        nonce = 0
        while 1 :
            data = block + str(nonce)
            sha = sha256()
            sha.update(data.encode())
            hash = sha.hexdigest()
            if hash[-7:] == str(problem["mathProblem"]):
                print('block number :' , problem["blockNumber"])                
                print('block hash :' , hash)
                print('hash of the previous block :' , prev_hash)
                print('nonce value :' , nonce)
                print('')
                return hash
            nonce = nonce + 1

prev_hash = "f85411fd7a7ff64400db4e3baf5fad6d4c07dfda5186ced6d6e59fc1b2712e41"

block_16(prev_hash)